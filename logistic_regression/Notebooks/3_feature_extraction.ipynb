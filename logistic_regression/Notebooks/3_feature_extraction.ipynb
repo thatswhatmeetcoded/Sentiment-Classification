{
  "nbformat": 4,
  "nbformat_minor": 0,
  "metadata": {
    "colab": {
      "provenance": [],
      "authorship_tag": "ABX9TyMlyrhNBQNHckcKhRyuk92I",
      "include_colab_link": true
    },
    "kernelspec": {
      "name": "python3",
      "display_name": "Python 3"
    },
    "language_info": {
      "name": "python"
    }
  },
  "cells": [
    {
      "cell_type": "markdown",
      "metadata": {
        "id": "view-in-github",
        "colab_type": "text"
      },
      "source": [
        "<a href=\"https://colab.research.google.com/github/thatswhatmeetcoded/Sentiment-Classification/blob/main/decision_tree/3_feature_extraction.ipynb\" target=\"_parent\"><img src=\"https://colab.research.google.com/assets/colab-badge.svg\" alt=\"Open In Colab\"/></a>"
      ]
    },
    {
      "cell_type": "code",
      "execution_count": null,
      "metadata": {
        "colab": {
          "base_uri": "https://localhost:8080/"
        },
        "id": "8KTdqtIMCFup",
        "outputId": "e6b4b0dd-79f2-4ec9-868d-bfb979666a33"
      },
      "outputs": [
        {
          "output_type": "stream",
          "name": "stdout",
          "text": [
            "Drive already mounted at /content/drive; to attempt to forcibly remount, call drive.mount(\"/content/drive\", force_remount=True).\n"
          ]
        }
      ],
      "source": [
        "# feature_extraction.ipynb\n",
        "\n",
        "import pandas as pd\n",
        "import numpy as np\n",
        "from sklearn.feature_extraction.text import TfidfVectorizer, CountVectorizer\n",
        "from sklearn.preprocessing import LabelEncoder\n",
        "import joblib\n",
        "from scipy import sparse\n",
        "import os\n",
        "\n",
        "# Mount Google Drive\n",
        "from google.colab import drive\n",
        "drive.mount('/content/drive')\n",
        "\n",
        "# Load cleaned data\n",
        "data_path = '/content/drive/MyDrive/clean_data.csv'\n",
        "df = pd.read_csv(data_path)\n",
        "\n",
        "# Create directory for features if it doesn’t exist\n",
        "features_dir = '/content/drive/MyDrive/features'\n",
        "vectorizers_dir = '/content/drive/MyDrive/vectorizers'\n",
        "os.makedirs(features_dir, exist_ok=True)\n",
        "os.makedirs(vectorizers_dir, exist_ok=True)\n",
        "\n",
        "# Prepare labels\n",
        "le = LabelEncoder()\n",
        "\n",
        "y = le.fit_transform(df['sentiment'])\n",
        "label_path = '/content/drive/MyDrive/features/y.npy'\n",
        "np.save(label_path, y)\n",
        "joblib.dump(le, '/content/drive/MyDrive/vectorizers/label_encoder.pkl')\n",
        "\n",
        "\n",
        "# TF-IDF Vectorization\n",
        "tfidf_vectorizer = TfidfVectorizer(max_features=5000, ngram_range=(1, 2))\n",
        "X_tfidf = tfidf_vectorizer.fit_transform(df['clean_text'])\n",
        "joblib.dump(tfidf_vectorizer, f\"{vectorizers_dir}/tfidf_vectorizer.pkl\")\n",
        "\n",
        "# Bag of Words Vectorization\n",
        "bow_vectorizer = CountVectorizer(max_features=5000, ngram_range=(1, 2))\n",
        "X_bow = bow_vectorizer.fit_transform(df['clean_text'])\n",
        "joblib.dump(bow_vectorizer, f\"{vectorizers_dir}/bow_vectorizer.pkl\")\n",
        "\n",
        "# Save the feature matrices (sparse format)\n",
        "sparse.save_npz(f\"{features_dir}/X_tfidf.npz\", X_tfidf)\n",
        "sparse.save_npz(f\"{features_dir}/X_bow.npz\", X_bow)\n",
        "\n",
        "print(f\"TF-IDF shape: {X_tfidf.shape}\")\n",
        "print(f\"BoW shape: {X_bow.shape}\")\n",
        "print(\"Vectorizers and Features saved to Google Drive successfully!\")\n"
      ]
    }
  ]
}