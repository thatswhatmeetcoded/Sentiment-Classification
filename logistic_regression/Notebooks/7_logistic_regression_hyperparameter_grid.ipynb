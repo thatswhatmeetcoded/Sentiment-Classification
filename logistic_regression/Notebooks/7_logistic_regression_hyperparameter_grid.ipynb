<a href="https://colab.research.google.com/github/thatswhatmeetcoded/Sentiment-Classification/blob/main/Logistic_Regression/7_logistic_regression_hyperparameter_grid.ipynb" target="_parent"><img src="https://colab.research.google.com/assets/colab-badge.svg" alt="Open In Colab"/></a>
import pandas as pd
import numpy as np
from sklearn.linear_model import LogisticRegression
from sklearn.metrics import accuracy_score
from sklearn.model_selection import train_test_split
from scipy import sparse
import itertools

# Load data
from google.colab import drive
drive.mount('/content/drive')

# Load labels
y = np.load('/content/drive/MyDrive/features/y.npy')

# Load features
X_tfidf = sparse.load_npz('/content/drive/MyDrive/features/X_tfidf.npz')
X_bow = sparse.load_npz('/content/drive/MyDrive/features/X_bow.npz')

# Train-test split
X_train_tfidf, X_test_tfidf, y_train, y_test = train_test_split(X_tfidf, y, test_size=0.2, random_state=42)
X_train_bow, X_test_bow, _, _ = train_test_split(X_bow, y, test_size=0.2, random_state=42)

# Hyperparameter grid for logistic regression
Cs = [0.001, 0.01, 0.1, 1, 10, 100]
penalties = ['l1', 'l2']
solvers = ['liblinear', 'saga']
class_weights = [None, 'balanced']

# Logging results
results = []

# Iterate through all combinations
for C, penalty, solver, class_weight in itertools.product(Cs, penalties, solvers, class_weights):
    # Skip invalid combinations
    if penalty == 'l1' and solver != 'liblinear' and solver != 'saga':
        continue
    if penalty == 'elasticnet' and solver != 'saga':
        continue
        
    try:
        clf = LogisticRegression(
            C=C,
            penalty=penalty,
            solver=solver,
            class_weight=class_weight,
            max_iter=1000,
            random_state=42
        )

        # Train on BoW
        clf.fit(X_train_bow, y_train)
        y_pred_bow = clf.predict(X_test_bow)
        acc_bow = accuracy_score(y_test, y_pred_bow)

        # Train on TF-IDF
        clf.fit(X_train_tfidf, y_train)
        y_pred_tfidf = clf.predict(X_test_tfidf)
        acc_tfidf = accuracy_score(y_test, y_pred_tfidf)

        results.append({
            'C': C,
            'penalty': penalty,
            'solver': solver,
            'class_weight': str(class_weight),
            'accuracy_bow': acc_bow,
            'accuracy_tfidf': acc_tfidf
        })
    except:
        continue

# Save to CSV
results_df = pd.DataFrame(results)
print(results_df)

import os

# Create directory if it doesn't exist
results_dir = '/content/drive/MyDrive/hyperparam_results'
os.makedirs(results_dir, exist_ok=True)

# Save results
results_df.to_csv(f'{results_dir}/logistic_regression_comparison.csv', index=False)
print("Hyperparameter tuning complete! Results saved to:", results_dir)
