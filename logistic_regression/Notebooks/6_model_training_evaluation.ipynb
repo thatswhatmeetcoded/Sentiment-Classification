<a href="https://colab.research.google.com/github/thatswhatmeetcoded/Sentiment-Classification/blob/main/Logistic_Regression/6_model_training_evaluation.ipynb" target="_parent"><img src="https://colab.research.google.com/assets/colab-badge.svg" alt="Open In Colab"/></a>
import numpy as np
import os
import matplotlib.pyplot as plt
import seaborn as sns
from sklearn.linear_model import LogisticRegression
from sklearn.metrics import classification_report, accuracy_score, confusion_matrix
import joblib
from google.colab import drive

# Mount Google Drive
drive.mount('/content/drive')

# Paths
pca_dir = '/content/drive/MyDrive/pca_data'
label_dir = '/content/drive/MyDrive/split_data'
model_dir = '/content/drive/MyDrive/models'
os.makedirs(model_dir, exist_ok=True)

# Load reduced TF-IDF and BoW features
X_tfidf_train = np.load(f"{pca_dir}/X_tfidf_train_reduced.npy")
X_tfidf_test = np.load(f"{pca_dir}/X_tfidf_test_reduced.npy")
X_bow_train = np.load(f"{pca_dir}/X_bow_train_reduced.npy")
X_bow_test = np.load(f"{pca_dir}/X_bow_test_reduced.npy")

# Load labels
y_tfidf_train = np.load(f"{label_dir}/y_tfidf_train.npy")
y_tfidf_test = np.load(f"{label_dir}/y_tfidf_test.npy")
y_bow_train = np.load(f"{label_dir}/y_bow_train.npy")
y_bow_test = np.load(f"{label_dir}/y_bow_test.npy")

# Define helper for training & evaluating
def train_evaluate_model(model, X_train, X_test, y_train, y_test, model_name, feature_type, color='Blues'):
    model.fit(X_train, y_train)
    y_pred = model.predict(X_test)

    acc = accuracy_score(y_test, y_pred)
    print(f"{model_name} using {feature_type}")
    print("Accuracy:", acc)
    print("Classification Report:")
    print(classification_report(y_test, y_pred))

    # Plot confusion matrix
    plt.figure(figsize=(5,4))
    sns.heatmap(confusion_matrix(y_test, y_pred), annot=True, fmt='d', cmap=color)
    plt.title(f"{model_name} - {feature_type}")
    plt.xlabel("Predicted")
    plt.ylabel("Actual")
    plt.show()

    # Save model
    filename = f"{model_dir}/{model_name.lower().replace(' ', '_')}_{feature_type.lower()}.pkl"
    joblib.dump(model, filename)
    print(f"Saved: {filename}\n")

# Logistic Regression model with default parameters
model = LogisticRegression(max_iter=1000, random_state=42)
train_evaluate_model(model, X_tfidf_train, X_tfidf_test, y_tfidf_train, y_tfidf_test, "Logistic Regression", "TF-IDF", color='Blues')
train_evaluate_model(model, X_bow_train, X_bow_test, y_bow_train, y_bow_test, "Logistic Regression", "BoW", color='Greens')
