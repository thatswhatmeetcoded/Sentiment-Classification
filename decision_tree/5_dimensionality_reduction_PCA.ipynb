{
  "cells": [
    {
      "cell_type": "markdown",
      "metadata": {
        "id": "view-in-github",
        "colab_type": "text"
      },
      "source": [
        "<a href=\"https://colab.research.google.com/github/thatswhatmeetcoded/Sentiment-Classification/blob/main/decision_tree/5_dimensionality_reduction_PCA.ipynb\" target=\"_parent\"><img src=\"https://colab.research.google.com/assets/colab-badge.svg\" alt=\"Open In Colab\"/></a>"
      ]
    },
    {
      "cell_type": "code",
      "execution_count": null,
      "metadata": {
        "colab": {
          "base_uri": "https://localhost:8080/"
        },
        "id": "OKcqj1dcH0KW",
        "outputId": "ecc708ea-06e9-49c8-80d3-908251cbf47b"
      },
      "outputs": [
        {
          "output_type": "stream",
          "name": "stdout",
          "text": [
            "Drive already mounted at /content/drive; to attempt to forcibly remount, call drive.mount(\"/content/drive\", force_remount=True).\n",
            "PCA applied using TruncatedSVD for BoW and TF-IDF. Reduced features saved!\n"
          ]
        }
      ],
      "source": [
        "# 5_dimensionality_reduction_pca.ipynb\n",
        "\n",
        "import numpy as np\n",
        "import os\n",
        "from scipy import sparse\n",
        "from sklearn.decomposition import TruncatedSVD\n",
        "import joblib\n",
        "from google.colab import drive\n",
        "\n",
        "# Mount Google Drive\n",
        "drive.mount('/content/drive')\n",
        "\n",
        "# Paths\n",
        "split_dir = '/content/drive/MyDrive/split_data'\n",
        "pca_dir = '/content/drive/MyDrive/pca_data'\n",
        "vectorizer_dir = '/content/drive/MyDrive/vectorizers'\n",
        "os.makedirs(pca_dir, exist_ok=True)\n",
        "\n",
        "# Load sparse BoW and TF-IDF matrices\n",
        "X_bow_train = sparse.load_npz(f\"{split_dir}/X_bow_train.npz\")\n",
        "X_bow_test = sparse.load_npz(f\"{split_dir}/X_bow_test.npz\")\n",
        "X_tfidf_train = sparse.load_npz(f\"{split_dir}/X_tfidf_train.npz\")\n",
        "X_tfidf_test = sparse.load_npz(f\"{split_dir}/X_tfidf_test.npz\")\n",
        "\n",
        "# Apply TruncatedSVD (acts like PCA for sparse data)\n",
        "\n",
        "# For BoW\n",
        "svd_bow = TruncatedSVD(n_components=100, random_state=42)\n",
        "X_bow_train_reduced = svd_bow.fit_transform(X_bow_train)\n",
        "X_bow_test_reduced = svd_bow.transform(X_bow_test)\n",
        "np.save(f\"{pca_dir}/X_bow_train_reduced.npy\", X_bow_train_reduced)\n",
        "np.save(f\"{pca_dir}/X_bow_test_reduced.npy\", X_bow_test_reduced)\n",
        "joblib.dump(svd_bow, f\"{vectorizer_dir}/svd_bow.pkl\")\n",
        "\n",
        "\n",
        "# For TF-IDF\n",
        "svd_tfidf = TruncatedSVD(n_components=100, random_state=42)\n",
        "X_tfidf_train_reduced = svd_tfidf.fit_transform(X_tfidf_train)\n",
        "X_tfidf_test_reduced = svd_tfidf.transform(X_tfidf_test)\n",
        "np.save(f\"{pca_dir}/X_tfidf_train_reduced.npy\", X_tfidf_train_reduced)\n",
        "np.save(f\"{pca_dir}/X_tfidf_test_reduced.npy\", X_tfidf_test_reduced)\n",
        "joblib.dump(svd_tfidf, f\"{vectorizer_dir}/svd_tfidf.pkl\")\n",
        "\n",
        "print(\"PCA applied using TruncatedSVD for BoW and TF-IDF. Reduced features saved!\")\n"
      ]
    }
  ],
  "metadata": {
    "colab": {
      "provenance": [],
      "mount_file_id": "1kHpk_4dHwBjcYE2REQetVvXUGv0etwZi",
      "authorship_tag": "ABX9TyN/HvoAb3IYbh35/U0raRQA",
      "include_colab_link": true
    },
    "kernelspec": {
      "display_name": "Python 3",
      "name": "python3"
    },
    "language_info": {
      "name": "python"
    }
  },
  "nbformat": 4,
  "nbformat_minor": 0
}