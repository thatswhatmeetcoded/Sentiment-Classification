{
  "nbformat": 4,
  "nbformat_minor": 0,
  "metadata": {
    "colab": {
      "provenance": [],
      "authorship_tag": "ABX9TyMm7COuqYvmA31axn4OCMcO",
      "include_colab_link": true
    },
    "kernelspec": {
      "name": "python3",
      "display_name": "Python 3"
    },
    "language_info": {
      "name": "python"
    }
  },
  "cells": [
    {
      "cell_type": "markdown",
      "metadata": {
        "id": "view-in-github",
        "colab_type": "text"
      },
      "source": [
        "<a href=\"https://colab.research.google.com/github/thatswhatmeetcoded/Sentiment-Classification/blob/main/decision_tree/7_decision_tree_hyperparameter_grid.ipynb\" target=\"_parent\"><img src=\"https://colab.research.google.com/assets/colab-badge.svg\" alt=\"Open In Colab\"/></a>"
      ]
    },
    {
      "cell_type": "code",
      "execution_count": null,
      "metadata": {
        "colab": {
          "base_uri": "https://localhost:8080/"
        },
        "id": "MT69iZodSFxL",
        "outputId": "628aadca-9315-4332-af47-975b7495eba6"
      },
      "outputs": [
        {
          "output_type": "stream",
          "name": "stdout",
          "text": [
            "Drive already mounted at /content/drive; to attempt to forcibly remount, call drive.mount(\"/content/drive\", force_remount=True).\n",
            "   criterion  max_depth  min_samples_split  min_samples_leaf  accuracy_bow  \\\n",
            "0       gini        5.0                  2                 1      0.519231   \n",
            "1       gini        5.0                  2                 2      0.509615   \n",
            "2       gini        5.0                  2                 4      0.519231   \n",
            "3       gini        5.0                  5                 1      0.519231   \n",
            "4       gini        5.0                  5                 2      0.509615   \n",
            "..       ...        ...                ...               ...           ...   \n",
            "85   entropy        NaN                  5                 2      0.663462   \n",
            "86   entropy        NaN                  5                 4      0.615385   \n",
            "87   entropy        NaN                 10                 1      0.653846   \n",
            "88   entropy        NaN                 10                 2      0.653846   \n",
            "89   entropy        NaN                 10                 4      0.615385   \n",
            "\n",
            "    accuracy_tfidf  \n",
            "0         0.519231  \n",
            "1         0.509615  \n",
            "2         0.519231  \n",
            "3         0.519231  \n",
            "4         0.509615  \n",
            "..             ...  \n",
            "85        0.605769  \n",
            "86        0.596154  \n",
            "87        0.682692  \n",
            "88        0.653846  \n",
            "89        0.596154  \n",
            "\n",
            "[90 rows x 6 columns]\n",
            "Hyperparameter tuning complete! Results saved to: /content/drive/MyDrive/hyperparam_results\n"
          ]
        }
      ],
      "source": [
        "import pandas as pd\n",
        "import numpy as np\n",
        "from sklearn.tree import DecisionTreeClassifier\n",
        "from sklearn.metrics import accuracy_score, classification_report\n",
        "from sklearn.model_selection import train_test_split\n",
        "from scipy import sparse\n",
        "import itertools\n",
        "\n",
        "# Load data\n",
        "from google.colab import drive\n",
        "drive.mount('/content/drive')\n",
        "\n",
        "# Load labels\n",
        "y = np.load('/content/drive/MyDrive/features/y.npy')\n",
        "\n",
        "# Load features\n",
        "X_tfidf = sparse.load_npz('/content/drive/MyDrive/features/X_tfidf.npz')\n",
        "X_bow = sparse.load_npz('/content/drive/MyDrive/features/X_bow.npz')\n",
        "\n",
        "# Train-test split\n",
        "X_train_tfidf, X_test_tfidf, y_train, y_test = train_test_split(X_tfidf, y, test_size=0.2, random_state=42)\n",
        "X_train_bow, X_test_bow, _, _ = train_test_split(X_bow, y, test_size=0.2, random_state=42)\n",
        "\n",
        "# Hyperparameter grid\n",
        "max_depths = [5, 10, 15, 20, None]\n",
        "min_samples_splits = [2, 5, 10]\n",
        "min_samples_leafs = [1, 2, 4]\n",
        "criterions = ['gini', 'entropy']\n",
        "\n",
        "# Logging results\n",
        "results = []\n",
        "\n",
        "# Iterate through all combinations\n",
        "for criterion, max_depth, min_samples_split, min_samples_leaf in itertools.product(\n",
        "    criterions, max_depths, min_samples_splits, min_samples_leafs\n",
        "):\n",
        "    clf = DecisionTreeClassifier(\n",
        "        criterion=criterion,\n",
        "        max_depth=max_depth,\n",
        "        min_samples_split=min_samples_split,\n",
        "        min_samples_leaf=min_samples_leaf,\n",
        "        random_state=42\n",
        "    )\n",
        "\n",
        "    # Train on BoW\n",
        "    clf.fit(X_train_bow, y_train)\n",
        "    y_pred_bow = clf.predict(X_test_bow)\n",
        "    acc_bow = accuracy_score(y_test, y_pred_bow)\n",
        "\n",
        "    # Train on TF-IDF\n",
        "    clf.fit(X_train_tfidf, y_train)\n",
        "    y_pred_tfidf = clf.predict(X_test_tfidf)\n",
        "    acc_tfidf = accuracy_score(y_test, y_pred_tfidf)\n",
        "\n",
        "    results.append({\n",
        "        'criterion': criterion,\n",
        "        'max_depth': max_depth,\n",
        "        'min_samples_split': min_samples_split,\n",
        "        'min_samples_leaf': min_samples_leaf,\n",
        "        'accuracy_bow': acc_bow,\n",
        "        'accuracy_tfidf': acc_tfidf\n",
        "    })\n",
        "\n",
        "# Save to CSV\n",
        "results_df = pd.DataFrame(results)\n",
        "print(results_df)\n",
        "import os\n",
        "\n",
        "# Create directory if it doesn't exist\n",
        "results_dir = '/content/drive/MyDrive/hyperparam_results'\n",
        "os.makedirs(results_dir, exist_ok=True)\n",
        "\n",
        "# Save results\n",
        "results_df.to_csv(f'{results_dir}/decision_tree_comparison.csv', index=False)\n",
        "print(\"Hyperparameter tuning complete! Results saved to:\", results_dir)\n"
      ]
    }
  ]
}