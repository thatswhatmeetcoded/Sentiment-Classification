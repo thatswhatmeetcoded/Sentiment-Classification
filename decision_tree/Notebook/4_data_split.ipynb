{
  "nbformat": 4,
  "nbformat_minor": 0,
  "metadata": {
    "colab": {
      "provenance": [],
      "authorship_tag": "ABX9TyPiLYKbV8A4ugTU3QeL8/3Q",
      "include_colab_link": true
    },
    "kernelspec": {
      "name": "python3",
      "display_name": "Python 3"
    },
    "language_info": {
      "name": "python"
    }
  },
  "cells": [
    {
      "cell_type": "markdown",
      "metadata": {
        "id": "view-in-github",
        "colab_type": "text"
      },
      "source": [
        "<a href=\"https://colab.research.google.com/github/thatswhatmeetcoded/Sentiment-Classification/blob/main/decision_tree/4_data_split.ipynb\" target=\"_parent\"><img src=\"https://colab.research.google.com/assets/colab-badge.svg\" alt=\"Open In Colab\"/></a>"
      ]
    },
    {
      "cell_type": "code",
      "execution_count": null,
      "metadata": {
        "colab": {
          "base_uri": "https://localhost:8080/"
        },
        "id": "wgmo2kQ-G6ev",
        "outputId": "0c162a3b-a321-492b-e040-36b5acdee3e8"
      },
      "outputs": [
        {
          "output_type": "stream",
          "name": "stdout",
          "text": [
            "Mounted at /content/drive\n",
            "Data split and saved successfully to Google Drive!\n"
          ]
        }
      ],
      "source": [
        "# 4_data_split.ipynb\n",
        "\n",
        "import numpy as np\n",
        "from sklearn.model_selection import train_test_split\n",
        "import os\n",
        "from scipy import sparse\n",
        "from google.colab import drive\n",
        "\n",
        "# Mount Google Drive\n",
        "drive.mount('/content/drive')\n",
        "\n",
        "# Directory where features are saved\n",
        "features_dir = '/content/drive/MyDrive/features'\n",
        "\n",
        "# Load TF-IDF and BoW features\n",
        "X_tfidf = sparse.load_npz(f\"{features_dir}/X_tfidf.npz\")\n",
        "X_bow = sparse.load_npz(f\"{features_dir}/X_bow.npz\")\n",
        "\n",
        "# Load labels\n",
        "y = np.load(f\"{features_dir}/y.npy\")\n",
        "\n",
        "# Split data (80% train, 20% test) with stratified sampling\n",
        "X_tfidf_train, X_tfidf_test, y_tfidf_train, y_tfidf_test = train_test_split(\n",
        "    X_tfidf, y, test_size=0.2, random_state=42, stratify=y)\n",
        "\n",
        "X_bow_train, X_bow_test, y_bow_train, y_bow_test = train_test_split(\n",
        "    X_bow, y, test_size=0.2, random_state=42, stratify=y)\n",
        "\n",
        "# Save split data to Drive\n",
        "split_dir = '/content/drive/MyDrive/split_data'\n",
        "os.makedirs(split_dir, exist_ok=True)\n",
        "\n",
        "# TF-IDF splits\n",
        "sparse.save_npz(f\"{split_dir}/X_tfidf_train.npz\", X_tfidf_train)\n",
        "sparse.save_npz(f\"{split_dir}/X_tfidf_test.npz\", X_tfidf_test)\n",
        "np.save(f\"{split_dir}/y_tfidf_train.npy\", y_tfidf_train)\n",
        "np.save(f\"{split_dir}/y_tfidf_test.npy\", y_tfidf_test)\n",
        "\n",
        "# BoW splits\n",
        "sparse.save_npz(f\"{split_dir}/X_bow_train.npz\", X_bow_train)\n",
        "sparse.save_npz(f\"{split_dir}/X_bow_test.npz\", X_bow_test)\n",
        "np.save(f\"{split_dir}/y_bow_train.npy\", y_bow_train)\n",
        "np.save(f\"{split_dir}/y_bow_test.npy\", y_bow_test)\n",
        "\n",
        "print(\"Data split and saved successfully to Google Drive!\")\n"
      ]
    }
  ]
}